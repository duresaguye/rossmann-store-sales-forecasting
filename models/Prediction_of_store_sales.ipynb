{
  "nbformat": 4,
  "nbformat_minor": 0,
  "metadata": {
    "colab": {
      "provenance": []
    },
    "kernelspec": {
      "name": "python3",
      "display_name": "Python 3"
    },
    "language_info": {
      "name": "python"
    }
  },
  "cells": [
    {
      "cell_type": "code",
      "execution_count": 35,
      "metadata": {
        "colab": {
          "base_uri": "https://localhost:8080/"
        },
        "id": "1hhBGPvb3ifq",
        "outputId": "ef3066a0-92bf-41ff-bed9-fbde892577e2"
      },
      "outputs": [
        {
          "output_type": "stream",
          "name": "stderr",
          "text": [
            "<ipython-input-35-1de42afd8b76>:18: DtypeWarning: Columns (7) have mixed types. Specify dtype option on import or set low_memory=False.\n",
            "  train = pd.read_csv(\"train.csv\")\n"
          ]
        },
        {
          "output_type": "stream",
          "name": "stdout",
          "text": [
            "   Store  DayOfWeek        Date  Sales  Customers  Open  Promo StateHoliday  \\\n",
            "0      1          5  2015-07-31   5263        555     1      1            0   \n",
            "1      2          5  2015-07-31   6064        625     1      1            0   \n",
            "2      3          5  2015-07-31   8314        821     1      1            0   \n",
            "3      4          5  2015-07-31  13995       1498     1      1            0   \n",
            "4      5          5  2015-07-31   4822        559     1      1            0   \n",
            "\n",
            "   SchoolHoliday StoreType Assortment  CompetitionDistance  \\\n",
            "0              1         c          a               1270.0   \n",
            "1              1         a          a                570.0   \n",
            "2              1         a          a              14130.0   \n",
            "3              1         c          c                620.0   \n",
            "4              1         a          a              29910.0   \n",
            "\n",
            "   CompetitionOpenSinceMonth  CompetitionOpenSinceYear  Promo2  \\\n",
            "0                        9.0                    2008.0       0   \n",
            "1                       11.0                    2007.0       1   \n",
            "2                       12.0                    2006.0       1   \n",
            "3                        9.0                    2009.0       0   \n",
            "4                        4.0                    2015.0       0   \n",
            "\n",
            "   Promo2SinceWeek  Promo2SinceYear    PromoInterval  \n",
            "0              NaN              NaN              NaN  \n",
            "1             13.0           2010.0  Jan,Apr,Jul,Oct  \n",
            "2             14.0           2011.0  Jan,Apr,Jul,Oct  \n",
            "3              NaN              NaN              NaN  \n",
            "4              NaN              NaN              NaN  \n"
          ]
        }
      ],
      "source": [
        "# Import necessary libraries\n",
        "import pandas as pd\n",
        "import numpy as np\n",
        "import matplotlib.pyplot as plt\n",
        "import seaborn as sns\n",
        "from sklearn.model_selection import train_test_split\n",
        "from sklearn.preprocessing import StandardScaler\n",
        "from sklearn.ensemble import RandomForestRegressor\n",
        "from sklearn.pipeline import Pipeline\n",
        "from sklearn.metrics import mean_squared_error\n",
        "import joblib\n",
        "from xgboost import XGBRegressor\n",
        "import datetime\n",
        "from sklearn.preprocessing import MinMaxScaler\n",
        "\n",
        "\n",
        "# Load the datasets\n",
        "train = pd.read_csv(\"train.csv\")\n",
        "store = pd.read_csv(\"store.csv\")\n",
        "\n",
        "# Merge datasets\n",
        "data = pd.merge(train, store, on=\"Store\", how=\"left\")\n",
        "print(data.head())\n"
      ]
    },
    {
      "cell_type": "code",
      "source": [
        "print(data.isnull().sum())\n",
        "\n",
        "#Fill missing values in `CompetitionDistance` and other columns\n",
        "data['CompetitionDistance'] = data['CompetitionDistance'].fillna(data['CompetitionDistance'].median())\n",
        "data['CompetitionOpenSinceMonth'] = data['CompetitionOpenSinceMonth'].fillna(0)\n",
        "data['CompetitionOpenSinceYear'] = data['CompetitionOpenSinceYear'].fillna(0)\n",
        "data['Promo2SinceWeek'] = data['Promo2SinceWeek'].fillna(0)\n",
        "data['Promo2SinceYear'] = data['Promo2SinceYear'].fillna(0)\n",
        "data['PromoInterval'] = data['PromoInterval'].fillna(\"None\")\n"
      ],
      "metadata": {
        "colab": {
          "base_uri": "https://localhost:8080/"
        },
        "id": "meZhye2q7I61",
        "outputId": "d6eebd16-cde5-4293-b21f-0fc9ee293fd0"
      },
      "execution_count": 9,
      "outputs": [
        {
          "output_type": "stream",
          "name": "stdout",
          "text": [
            "Store                        0\n",
            "DayOfWeek                    0\n",
            "Date                         0\n",
            "Sales                        0\n",
            "Customers                    0\n",
            "Open                         0\n",
            "Promo                        0\n",
            "StateHoliday                 0\n",
            "SchoolHoliday                0\n",
            "StoreType                    0\n",
            "Assortment                   0\n",
            "CompetitionDistance          0\n",
            "CompetitionOpenSinceMonth    0\n",
            "CompetitionOpenSinceYear     0\n",
            "Promo2                       0\n",
            "Promo2SinceWeek              0\n",
            "Promo2SinceYear              0\n",
            "PromoInterval                0\n",
            "dtype: int64\n"
          ]
        }
      ]
    },
    {
      "cell_type": "code",
      "source": [
        "data['Date'] = pd.to_datetime(data['Date'])\n",
        "data['Year'] = data['Date'].dt.year\n",
        "data['Month'] = data['Date'].dt.month\n",
        "data['Day'] = data['Date'].dt.day\n",
        "data['Weekday'] = data['Date'].dt.weekday\n",
        "data['IsWeekend'] = data['Weekday'].apply(lambda x: 1 if x >= 5 else 0)\n",
        "data['MonthSegment'] = data['Day'].apply(lambda x: 0 if x <= 10 else (1 if x <= 20 else 2))\n"
      ],
      "metadata": {
        "id": "GIu0b3mY-BhP"
      },
      "execution_count": 10,
      "outputs": []
    },
    {
      "cell_type": "code",
      "source": [
        "# Encode PromoInterval\n",
        "promo_months = {'None': [], 'Jan,Apr,Jul,Oct': [1, 4, 7, 10], 'Feb,May,Aug,Nov': [2, 5, 8, 11], 'Mar,Jun,Sept,Dec': [3, 6, 9, 12]}\n",
        "data['IsPromoMonth'] = data.apply(lambda x: 1 if x['Month'] in promo_months[x['PromoInterval']] else 0, axis=1)\n"
      ],
      "metadata": {
        "id": "ZHfOQG0P-Itk"
      },
      "execution_count": 11,
      "outputs": []
    },
    {
      "cell_type": "code",
      "source": [
        "for col in categorical_columns:\n",
        "    print(f\"{col} unique values and types:\")\n",
        "    print(data[col].apply(type).unique())\n",
        "for col in categorical_columns:\n",
        "    data[col] = data[col].astype(str)\n",
        "from sklearn.preprocessing import LabelEncoder\n",
        "\n",
        "encoder = LabelEncoder()\n",
        "for col in categorical_columns:\n",
        "    data[col] = encoder.fit_transform(data[col])\n",
        "for col in categorical_columns:\n",
        "    print(f\"Encoded values for {col}:\")\n",
        "    print(data[col].unique())\n"
      ],
      "metadata": {
        "colab": {
          "base_uri": "https://localhost:8080/"
        },
        "id": "vdDZUShu-OWl",
        "outputId": "9b51ea19-48b2-4941-e006-64ccd5619c72"
      },
      "execution_count": 16,
      "outputs": [
        {
          "output_type": "stream",
          "name": "stdout",
          "text": [
            "StateHoliday unique values and types:\n",
            "[<class 'int'>]\n",
            "StoreType unique values and types:\n",
            "[<class 'int'>]\n",
            "Assortment unique values and types:\n",
            "[<class 'int'>]\n",
            "Encoded values for StateHoliday:\n",
            "[0 1 2 3]\n",
            "Encoded values for StoreType:\n",
            "[2 0 3 1]\n",
            "Encoded values for Assortment:\n",
            "[0 2 1]\n"
          ]
        }
      ]
    },
    {
      "cell_type": "code",
      "source": [
        "from sklearn.preprocessing import StandardScaler\n",
        "\n",
        "scaler = StandardScaler()\n",
        "numeric_features = ['CompetitionDistance', 'CompetitionOpenSinceMonth', 'CompetitionOpenSinceYear', 'Promo2SinceWeek', 'Promo2SinceYear', 'Year', 'Month', 'Day', 'Weekday']\n",
        "data[numeric_features] = scaler.fit_transform(data[numeric_features])\n"
      ],
      "metadata": {
        "id": "9iVHvb7n-usu"
      },
      "execution_count": 17,
      "outputs": []
    },
    {
      "cell_type": "code",
      "source": [
        "from sklearn.model_selection import train_test_split\n",
        "\n",
        "X = data.drop(['Sales', 'Customers', 'Date', 'Store'], axis=1)\n",
        "y = data['Sales']\n",
        "\n",
        "X_train, X_test, y_train, y_test = train_test_split(X, y, test_size=0.2, random_state=42)\n"
      ],
      "metadata": {
        "id": "VLlhcvxj-ymA"
      },
      "execution_count": 19,
      "outputs": []
    },
    {
      "cell_type": "code",
      "source": [
        "print(X_train.dtypes)\n",
        "\n"
      ],
      "metadata": {
        "colab": {
          "base_uri": "https://localhost:8080/"
        },
        "id": "ahMc7Wac---J",
        "outputId": "b6216e48-8b87-4808-975f-51ef45fa7bed"
      },
      "execution_count": 22,
      "outputs": [
        {
          "output_type": "stream",
          "name": "stdout",
          "text": [
            "DayOfWeek                      int64\n",
            "Open                           int64\n",
            "Promo                          int64\n",
            "StateHoliday                   int64\n",
            "SchoolHoliday                  int64\n",
            "StoreType                      int64\n",
            "Assortment                     int64\n",
            "CompetitionDistance          float64\n",
            "CompetitionOpenSinceMonth    float64\n",
            "CompetitionOpenSinceYear     float64\n",
            "Promo2                         int64\n",
            "Promo2SinceWeek              float64\n",
            "Promo2SinceYear              float64\n",
            "PromoInterval                 object\n",
            "Year                         float64\n",
            "Month                        float64\n",
            "Day                          float64\n",
            "Weekday                      float64\n",
            "IsWeekend                      int64\n",
            "MonthSegment                   int64\n",
            "IsPromoMonth                   int64\n",
            "dtype: object\n"
          ]
        }
      ]
    },
    {
      "cell_type": "code",
      "source": [
        "months = ['Jan', 'Feb', 'Mar', 'Apr', 'May', 'Jun', 'Jul', 'Aug', 'Sep', 'Oct', 'Nov', 'Dec']\n",
        "for month in months:\n",
        "    X_train[f'Promo_{month}'] = X_train['PromoInterval'].apply(lambda x: 1 if month in str(x) else 0)\n",
        "    X_test[f'Promo_{month}'] = X_test['PromoInterval'].apply(lambda x: 1 if month in str(x) else 0)\n",
        "\n",
        "# Drop the original PromoInterval column\n",
        "X_train = X_train.drop('PromoInterval', axis=1)\n",
        "X_test = X_test.drop('PromoInterval', axis=1)\n"
      ],
      "metadata": {
        "id": "LaRishxz_do8"
      },
      "execution_count": 23,
      "outputs": []
    },
    {
      "cell_type": "code",
      "source": [
        "print(X_train.dtypes)\n"
      ],
      "metadata": {
        "colab": {
          "base_uri": "https://localhost:8080/"
        },
        "id": "PnB8LKWv_kpI",
        "outputId": "9c87bea7-0a0c-47c1-e0fd-fb5e92662571"
      },
      "execution_count": 24,
      "outputs": [
        {
          "output_type": "stream",
          "name": "stdout",
          "text": [
            "DayOfWeek                      int64\n",
            "Open                           int64\n",
            "Promo                          int64\n",
            "StateHoliday                   int64\n",
            "SchoolHoliday                  int64\n",
            "StoreType                      int64\n",
            "Assortment                     int64\n",
            "CompetitionDistance          float64\n",
            "CompetitionOpenSinceMonth    float64\n",
            "CompetitionOpenSinceYear     float64\n",
            "Promo2                         int64\n",
            "Promo2SinceWeek              float64\n",
            "Promo2SinceYear              float64\n",
            "Year                         float64\n",
            "Month                        float64\n",
            "Day                          float64\n",
            "Weekday                      float64\n",
            "IsWeekend                      int64\n",
            "MonthSegment                   int64\n",
            "IsPromoMonth                   int64\n",
            "Promo_Jan                      int64\n",
            "Promo_Feb                      int64\n",
            "Promo_Mar                      int64\n",
            "Promo_Apr                      int64\n",
            "Promo_May                      int64\n",
            "Promo_Jun                      int64\n",
            "Promo_Jul                      int64\n",
            "Promo_Aug                      int64\n",
            "Promo_Sep                      int64\n",
            "Promo_Oct                      int64\n",
            "Promo_Nov                      int64\n",
            "Promo_Dec                      int64\n",
            "dtype: object\n"
          ]
        }
      ]
    },
    {
      "cell_type": "code",
      "source": [
        "from sklearn.pipeline import Pipeline\n",
        "from sklearn.ensemble import RandomForestRegressor\n",
        "\n",
        "pipeline = Pipeline([\n",
        "    ('model', RandomForestRegressor(n_estimators=100, random_state=42))\n",
        "])\n",
        "\n",
        "pipeline.fit(X_train, y_train)\n",
        "y_pred = pipeline.predict(X_test)\n"
      ],
      "metadata": {
        "id": "G6dx10igALZu"
      },
      "execution_count": 27,
      "outputs": []
    },
    {
      "cell_type": "code",
      "source": [
        "from sklearn.metrics import mean_squared_error\n",
        "import numpy as np\n",
        "\n",
        "rmse = np.sqrt(mean_squared_error(y_test, y_pred))\n",
        "print(f\"RMSE: {rmse}\")\n"
      ],
      "metadata": {
        "colab": {
          "base_uri": "https://localhost:8080/"
        },
        "id": "qrz3n9_gDoZZ",
        "outputId": "54adbec8-134a-414b-cc0a-9f74b86edd56"
      },
      "execution_count": 28,
      "outputs": [
        {
          "output_type": "stream",
          "name": "stdout",
          "text": [
            "RMSE: 875.3288296901457\n"
          ]
        }
      ]
    },
    {
      "cell_type": "code",
      "source": [
        "import joblib\n",
        "import datetime\n",
        "\n",
        "timestamp = datetime.datetime.now().strftime(\"%Y-%m-%d-%H-%M-%S\")\n",
        "joblib.dump(pipeline, f\"sales_model_{timestamp}.pkl\")\n"
      ],
      "metadata": {
        "colab": {
          "base_uri": "https://localhost:8080/"
        },
        "id": "-VExB_y2NkpS",
        "outputId": "f539c4dd-f2d1-490f-db63-a4d25da6a16f"
      },
      "execution_count": 33,
      "outputs": [
        {
          "output_type": "execute_result",
          "data": {
            "text/plain": [
              "['sales_model_2025-01-10-17-15-02.pkl']"
            ]
          },
          "metadata": {},
          "execution_count": 33
        }
      ]
    },
    {
      "cell_type": "markdown",
      "source": [
        "Create Supervised Data for LSTM"
      ],
      "metadata": {
        "id": "XC4dGt3RWs2v"
      }
    },
    {
      "cell_type": "code",
      "source": [
        "# Function to transform the data into supervised learning format\n",
        "def create_supervised_data(df, lag=1):\n",
        "    cols = ['Sales', 'Customers', 'Promo']  # Example columns\n",
        "    df_supervised = df[cols].shift(lag)  # Shift data by 'lag' days\n",
        "    df_supervised['Sales'] = df['Sales']  # Target column\n",
        "    df_supervised.dropna(inplace=True)  # Remove any rows with NaN after shifting\n",
        "    return df_supervised\n",
        "\n",
        "# Prepare the data with a lag of 7 days\n",
        "lag = 7  # We will use the last 7 days to predict the next day's sales\n",
        "supervised_data = create_supervised_data(data, lag=lag)\n",
        "\n",
        "# Scale the data between -1 and 1 using MinMaxScaler\n",
        "scaler = MinMaxScaler(feature_range=(-1, 1))\n",
        "scaled_data = scaler.fit_transform(supervised_data)\n",
        "\n",
        "# Convert back to DataFrame after scaling\n",
        "scaled_data = pd.DataFrame(scaled_data, columns=supervised_data.columns)\n",
        "\n",
        "# Check the first few rows of the scaled data\n",
        "print(scaled_data.head())\n"
      ],
      "metadata": {
        "colab": {
          "base_uri": "https://localhost:8080/"
        },
        "id": "TESGIl-kWwUy",
        "outputId": "690a7be3-af7a-4ceb-b2e1-ce7a661bc5e7"
      },
      "execution_count": 36,
      "outputs": [
        {
          "output_type": "stream",
          "name": "stdout",
          "text": [
            "      Sales  Customers  Promo\n",
            "0 -0.591249  -0.849756    1.0\n",
            "1 -0.587736  -0.830807    1.0\n",
            "2 -0.654160  -0.777748    1.0\n",
            "3 -0.496667  -0.594478    1.0\n",
            "4 -0.568771  -0.848674    1.0\n"
          ]
        }
      ]
    },
    {
      "cell_type": "markdown",
      "source": [
        " Prepare the LSTM Input Format"
      ],
      "metadata": {
        "id": "Unogaa8RXDV6"
      }
    },
    {
      "cell_type": "markdown",
      "source": [],
      "metadata": {
        "id": "y_vSWykoXEYL"
      }
    },
    {
      "cell_type": "code",
      "source": [
        "# Function to create the data in the 3D format (samples, time_steps, features)\n",
        "def create_lstm_data(data, time_steps=7):\n",
        "    X, y = [], []\n",
        "    for i in range(len(data) - time_steps):\n",
        "        X.append(data.iloc[i:i+time_steps, :-1].values)  # All columns except target\n",
        "        y.append(data.iloc[i+time_steps, -1])  # Target column (Sales)\n",
        "    return np.array(X), np.array(y)\n",
        "\n",
        "# Prepare the dataset\n",
        "X, y = create_lstm_data(scaled_data, time_steps=lag)\n",
        "\n",
        "# Reshape X to be 3D [samples, time_steps, features]\n",
        "X = X.reshape(X.shape[0], X.shape[1], X.shape[2])\n",
        "\n",
        "# Split the data into training and testing sets\n",
        "train_size = int(len(X) * 0.8)\n",
        "X_train, X_test = X[:train_size], X[train_size:]\n",
        "y_train, y_test = y[:train_size], y[train_size:]\n",
        "\n",
        "# Check the shapes of the training and testing data\n",
        "print(f\"Training data shape: X_train={X_train.shape}, y_train={y_train.shape}\")\n",
        "print(f\"Testing data shape: X_test={X_test.shape}, y_test={y_test.shape}\")\n"
      ],
      "metadata": {
        "colab": {
          "base_uri": "https://localhost:8080/"
        },
        "id": "xN_aBOVKXIZQ",
        "outputId": "7daf9c08-cb07-42d3-dabd-3f271dcb8d46"
      },
      "execution_count": 37,
      "outputs": [
        {
          "output_type": "stream",
          "name": "stdout",
          "text": [
            "Training data shape: X_train=(813756, 7, 2), y_train=(813756,)\n",
            "Testing data shape: X_test=(203439, 7, 2), y_test=(203439,)\n"
          ]
        }
      ]
    },
    {
      "cell_type": "markdown",
      "source": [
        "Build the LSTM Model"
      ],
      "metadata": {
        "id": "vAIsybl_Yndk"
      }
    },
    {
      "cell_type": "code",
      "source": [
        "import tensorflow as tf\n",
        "from tensorflow.keras.models import Sequential\n",
        "from tensorflow.keras.layers import LSTM, Dense, Dropout\n",
        "\n",
        "# Build the LSTM model\n",
        "model = Sequential()\n",
        "\n",
        "# Add LSTM layers\n",
        "model.add(LSTM(64, return_sequences=True, input_shape=(X_train.shape[1], X_train.shape[2])))\n",
        "model.add(Dropout(0.2))\n",
        "\n",
        "model.add(LSTM(32, return_sequences=False))\n",
        "model.add(Dropout(0.2))\n",
        "\n",
        "# Output layer with one value (Sales)\n",
        "model.add(Dense(1))\n",
        "\n",
        "# Compile the model\n",
        "model.compile(optimizer='adam', loss='mean_squared_error')\n",
        "\n",
        "# Train the model\n",
        "history = model.fit(X_train, y_train, epochs=10, batch_size=64, validation_data=(X_test, y_test), verbose=1)\n"
      ],
      "metadata": {
        "colab": {
          "base_uri": "https://localhost:8080/"
        },
        "id": "gM10pSBoYoHK",
        "outputId": "fc1b03e8-bc5f-47a1-fc4f-5d6c77c4a3cf"
      },
      "execution_count": 38,
      "outputs": [
        {
          "output_type": "stream",
          "name": "stderr",
          "text": [
            "/usr/local/lib/python3.10/dist-packages/keras/src/layers/rnn/rnn.py:204: UserWarning: Do not pass an `input_shape`/`input_dim` argument to a layer. When using Sequential models, prefer using an `Input(shape)` object as the first layer in the model instead.\n",
            "  super().__init__(**kwargs)\n"
          ]
        },
        {
          "output_type": "stream",
          "name": "stdout",
          "text": [
            "Epoch 1/10\n",
            "\u001b[1m12715/12715\u001b[0m \u001b[32m━━━━━━━━━━━━━━━━━━━━\u001b[0m\u001b[37m\u001b[0m \u001b[1m165s\u001b[0m 13ms/step - loss: 0.4704 - val_loss: 0.4485\n",
            "Epoch 2/10\n",
            "\u001b[1m12715/12715\u001b[0m \u001b[32m━━━━━━━━━━━━━━━━━━━━\u001b[0m\u001b[37m\u001b[0m \u001b[1m202s\u001b[0m 13ms/step - loss: 0.3754 - val_loss: 0.4728\n",
            "Epoch 3/10\n",
            "\u001b[1m12715/12715\u001b[0m \u001b[32m━━━━━━━━━━━━━━━━━━━━\u001b[0m\u001b[37m\u001b[0m \u001b[1m200s\u001b[0m 13ms/step - loss: 0.3546 - val_loss: 0.3704\n",
            "Epoch 4/10\n",
            "\u001b[1m12715/12715\u001b[0m \u001b[32m━━━━━━━━━━━━━━━━━━━━\u001b[0m\u001b[37m\u001b[0m \u001b[1m158s\u001b[0m 12ms/step - loss: 0.3409 - val_loss: 0.3968\n",
            "Epoch 5/10\n",
            "\u001b[1m12715/12715\u001b[0m \u001b[32m━━━━━━━━━━━━━━━━━━━━\u001b[0m\u001b[37m\u001b[0m \u001b[1m159s\u001b[0m 12ms/step - loss: 0.3258 - val_loss: 0.3535\n",
            "Epoch 6/10\n",
            "\u001b[1m12715/12715\u001b[0m \u001b[32m━━━━━━━━━━━━━━━━━━━━\u001b[0m\u001b[37m\u001b[0m \u001b[1m204s\u001b[0m 13ms/step - loss: 0.3132 - val_loss: 0.3624\n",
            "Epoch 7/10\n",
            "\u001b[1m12715/12715\u001b[0m \u001b[32m━━━━━━━━━━━━━━━━━━━━\u001b[0m\u001b[37m\u001b[0m \u001b[1m202s\u001b[0m 13ms/step - loss: 0.3029 - val_loss: 0.3490\n",
            "Epoch 8/10\n",
            "\u001b[1m12715/12715\u001b[0m \u001b[32m━━━━━━━━━━━━━━━━━━━━\u001b[0m\u001b[37m\u001b[0m \u001b[1m203s\u001b[0m 13ms/step - loss: 0.2953 - val_loss: 0.3448\n",
            "Epoch 9/10\n",
            "\u001b[1m12715/12715\u001b[0m \u001b[32m━━━━━━━━━━━━━━━━━━━━\u001b[0m\u001b[37m\u001b[0m \u001b[1m205s\u001b[0m 13ms/step - loss: 0.2852 - val_loss: 0.3443\n",
            "Epoch 10/10\n",
            "\u001b[1m12715/12715\u001b[0m \u001b[32m━━━━━━━━━━━━━━━━━━━━\u001b[0m\u001b[37m\u001b[0m \u001b[1m167s\u001b[0m 13ms/step - loss: 0.2806 - val_loss: 0.3503\n"
          ]
        }
      ]
    },
    {
      "cell_type": "code",
      "source": [
        "# Save the trained LSTM model in the new Keras format\n",
        "model.save('sales_model.keras')\n",
        "# Load the model from the new Keras format\n",
        "model = tf.keras.models.load_model('sales_model.keras')\n"
      ],
      "metadata": {
        "id": "XIDP57vM0Gvx"
      },
      "execution_count": 43,
      "outputs": []
    },
    {
      "cell_type": "markdown",
      "source": [
        "Evaluate the Model and Make Predictions"
      ],
      "metadata": {
        "id": "HtOpx0wXgHzC"
      }
    },
    {
      "cell_type": "code",
      "source": [
        "# Evaluate the model on the test data\n",
        "mse = model.evaluate(X_test, y_test)\n",
        "print(\"Mean Squared Error on Test Set:\", mse)\n",
        "\n",
        "# Predict on the test set\n",
        "y_pred = model.predict(X_test)\n",
        "\n",
        "# Reshape the predictions to match the shape of the original scaled 'Sales' column\n",
        "y_pred_reshaped = y_pred.reshape(-1, 1)  # Reshape to (n_samples, 1) for inverse transformation\n",
        "\n",
        "# Inverse scaling to get the original scale of sales (only for predictions)\n",
        "y_pred_original = scaler.inverse_transform(np.concatenate([np.zeros((y_pred_reshaped.shape[0], scaled_data.shape[1]-1)), y_pred_reshaped], axis=1))[:, -1]\n",
        "\n",
        "# Plot the predicted vs actual sales\n",
        "plt.figure(figsize=(12, 6))\n",
        "plt.plot(y_test, label='True Sales')\n",
        "plt.plot(y_pred_original, label='Predicted Sales')\n",
        "plt.legend()\n",
        "plt.title(\"True vs Predicted Sales\")\n",
        "plt.xlabel(\"Time\")\n",
        "plt.ylabel(\"Sales\")\n",
        "plt.show()\n"
      ],
      "metadata": {
        "colab": {
          "base_uri": "https://localhost:8080/",
          "height": 618
        },
        "id": "_vO_ZEAWgK7a",
        "outputId": "fc25332f-8421-424d-9fd3-c7f56c798403"
      },
      "execution_count": 40,
      "outputs": [
        {
          "output_type": "stream",
          "name": "stdout",
          "text": [
            "\u001b[1m6358/6358\u001b[0m \u001b[32m━━━━━━━━━━━━━━━━━━━━\u001b[0m\u001b[37m\u001b[0m \u001b[1m25s\u001b[0m 4ms/step - loss: 0.3453\n",
            "Mean Squared Error on Test Set: 0.35027557611465454\n",
            "\u001b[1m6358/6358\u001b[0m \u001b[32m━━━━━━━━━━━━━━━━━━━━\u001b[0m\u001b[37m\u001b[0m \u001b[1m23s\u001b[0m 4ms/step\n"
          ]
        },
        {
          "output_type": "display_data",
          "data": {
            "text/plain": [
              "<Figure size 1200x600 with 1 Axes>"
            ],
            "image/png": "[encoded data removed]"
          },
          "metadata": {}
        }
      ]
    },
    {
      "cell_type": "markdown",
      "source": [
        " Monitor Model Training"
      ],
      "metadata": {
        "id": "3SbRNnPkhYUw"
      }
    },
    {
      "cell_type": "code",
      "source": [
        "# Plot the training and validation loss\n",
        "plt.plot(history.history['loss'], label='Train Loss')\n",
        "plt.plot(history.history['val_loss'], label='Validation Loss')\n",
        "plt.legend()\n",
        "plt.show()\n"
      ],
      "metadata": {
        "colab": {
          "base_uri": "https://localhost:8080/",
          "height": 430
        },
        "id": "XikGwvdnhZFy",
        "outputId": "0c6a936f-e08c-4e58-dcc7-248dba122e4f"
      },
      "execution_count": 41,
      "outputs": [
        {
          "output_type": "display_data",
          "data": {
            "text/plain": [
              "<Figure size 640x480 with 1 Axes>"
            ],
            "image/png": "[encoded data removed]"
          },
          "metadata": {}
        }
      ]
    }
  ]
}