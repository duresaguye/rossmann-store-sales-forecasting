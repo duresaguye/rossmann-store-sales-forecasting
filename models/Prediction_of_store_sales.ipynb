{
  "nbformat": 4,
  "nbformat_minor": 0,
  "metadata": {
    "colab": {
      "provenance": []
    },
    "kernelspec": {
      "name": "python3",
      "display_name": "Python 3"
    },
    "language_info": {
      "name": "python"
    }
  },
  "cells": [
    {
      "cell_type": "code",
      "execution_count": 1,
      "metadata": {
        "colab": {
          "base_uri": "https://localhost:8080/"
        },
        "id": "1hhBGPvb3ifq",
        "outputId": "46e49a86-4e27-48ea-a523-50f99ccacd2e"
      },
      "outputs": [
        {
          "output_type": "stream",
          "name": "stderr",
          "text": [
            "<ipython-input-1-1de42afd8b76>:18: DtypeWarning: Columns (7) have mixed types. Specify dtype option on import or set low_memory=False.\n",
            "  train = pd.read_csv(\"train.csv\")\n"
          ]
        },
        {
          "output_type": "stream",
          "name": "stdout",
          "text": [
            "   Store  DayOfWeek        Date    Sales  Customers  Open  Promo StateHoliday  \\\n",
            "0      1        5.0  2015-07-31   5263.0      555.0   1.0    1.0            0   \n",
            "1      2        5.0  2015-07-31   6064.0      625.0   1.0    1.0            0   \n",
            "2      3        5.0  2015-07-31   8314.0      821.0   1.0    1.0            0   \n",
            "3      4        5.0  2015-07-31  13995.0     1498.0   1.0    1.0            0   \n",
            "4      5        5.0  2015-07-31   4822.0      559.0   1.0    1.0            0   \n",
            "\n",
            "   SchoolHoliday StoreType Assortment  CompetitionDistance  \\\n",
            "0            1.0         c          a               1270.0   \n",
            "1            1.0         a          a                570.0   \n",
            "2            1.0         a          a              14130.0   \n",
            "3            1.0         c          c                620.0   \n",
            "4            1.0         a          a              29910.0   \n",
            "\n",
            "   CompetitionOpenSinceMonth  CompetitionOpenSinceYear  Promo2  \\\n",
            "0                        9.0                    2008.0       0   \n",
            "1                       11.0                    2007.0       1   \n",
            "2                       12.0                    2006.0       1   \n",
            "3                        9.0                    2009.0       0   \n",
            "4                        4.0                    2015.0       0   \n",
            "\n",
            "   Promo2SinceWeek  Promo2SinceYear    PromoInterval  \n",
            "0              NaN              NaN              NaN  \n",
            "1             13.0           2010.0  Jan,Apr,Jul,Oct  \n",
            "2             14.0           2011.0  Jan,Apr,Jul,Oct  \n",
            "3              NaN              NaN              NaN  \n",
            "4              NaN              NaN              NaN  \n"
          ]
        }
      ],
      "source": [
        "# Import necessary libraries\n",
        "import pandas as pd\n",
        "import numpy as np\n",
        "import matplotlib.pyplot as plt\n",
        "import seaborn as sns\n",
        "from sklearn.model_selection import train_test_split\n",
        "from sklearn.preprocessing import StandardScaler\n",
        "from sklearn.ensemble import RandomForestRegressor\n",
        "from sklearn.pipeline import Pipeline\n",
        "from sklearn.metrics import mean_squared_error\n",
        "import joblib\n",
        "from xgboost import XGBRegressor\n",
        "import datetime\n",
        "from sklearn.preprocessing import MinMaxScaler\n",
        "\n",
        "\n",
        "# Load the datasets\n",
        "train = pd.read_csv(\"train.csv\")\n",
        "store = pd.read_csv(\"store.csv\")\n",
        "\n",
        "# Merge datasets\n",
        "data = pd.merge(train, store, on=\"Store\", how=\"left\")\n",
        "print(data.head())\n"
      ]
    },
    {
      "cell_type": "code",
      "source": [
        "print(data.isnull().sum())\n",
        "\n",
        "#Fill missing values in `CompetitionDistance` and other columns\n",
        "data['CompetitionDistance'] = data['CompetitionDistance'].fillna(data['CompetitionDistance'].median())\n",
        "data['CompetitionOpenSinceMonth'] = data['CompetitionOpenSinceMonth'].fillna(0)\n",
        "data['CompetitionOpenSinceYear'] = data['CompetitionOpenSinceYear'].fillna(0)\n",
        "data['Promo2SinceWeek'] = data['Promo2SinceWeek'].fillna(0)\n",
        "data['Promo2SinceYear'] = data['Promo2SinceYear'].fillna(0)\n",
        "data['PromoInterval'] = data['PromoInterval'].fillna(\"None\")\n"
      ],
      "metadata": {
        "colab": {
          "base_uri": "https://localhost:8080/"
        },
        "id": "meZhye2q7I61",
        "outputId": "29c34ceb-81f9-493e-ecfb-039f2828b9a9"
      },
      "execution_count": 2,
      "outputs": [
        {
          "output_type": "stream",
          "name": "stdout",
          "text": [
            "Store                             0\n",
            "DayOfWeek                         1\n",
            "Date                              1\n",
            "Sales                             1\n",
            "Customers                         1\n",
            "Open                              1\n",
            "Promo                             1\n",
            "StateHoliday                      1\n",
            "SchoolHoliday                     1\n",
            "StoreType                         0\n",
            "Assortment                        0\n",
            "CompetitionDistance            1338\n",
            "CompetitionOpenSinceMonth    169453\n",
            "CompetitionOpenSinceYear     169453\n",
            "Promo2                            0\n",
            "Promo2SinceWeek              271539\n",
            "Promo2SinceYear              271539\n",
            "PromoInterval                271539\n",
            "dtype: int64\n"
          ]
        }
      ]
    },
    {
      "cell_type": "code",
      "source": [
        "data['Date'] = pd.to_datetime(data['Date'])\n",
        "data['Year'] = data['Date'].dt.year\n",
        "data['Month'] = data['Date'].dt.month\n",
        "data['Day'] = data['Date'].dt.day\n",
        "data['Weekday'] = data['Date'].dt.weekday\n",
        "data['IsWeekend'] = data['Weekday'].apply(lambda x: 1 if x >= 5 else 0)\n",
        "data['MonthSegment'] = data['Day'].apply(lambda x: 0 if x <= 10 else (1 if x <= 20 else 2))\n"
      ],
      "metadata": {
        "id": "GIu0b3mY-BhP"
      },
      "execution_count": 3,
      "outputs": []
    },
    {
      "cell_type": "code",
      "source": [
        "# Encode PromoInterval\n",
        "promo_months = {'None': [], 'Jan,Apr,Jul,Oct': [1, 4, 7, 10], 'Feb,May,Aug,Nov': [2, 5, 8, 11], 'Mar,Jun,Sept,Dec': [3, 6, 9, 12]}\n",
        "data['IsPromoMonth'] = data.apply(lambda x: 1 if x['Month'] in promo_months[x['PromoInterval']] else 0, axis=1)\n"
      ],
      "metadata": {
        "id": "ZHfOQG0P-Itk"
      },
      "execution_count": 4,
      "outputs": []
    },
    {
      "cell_type": "code",
      "source": [
        "categorical_columns = ['DayOfWeek', 'Open', 'Promo', 'StateHoliday', 'SchoolHoliday', 'StoreType', 'Assortment', 'CompetitionOpenSinceMonth', 'CompetitionOpenSinceYear', 'Promo2', 'Promo2SinceWeek', 'Promo2SinceYear', 'PromoInterval']  # Replace with your actual categorical columns\n",
        "\n",
        "\n",
        "for col in categorical_columns:\n",
        "    print(f\"{col} unique values and types:\")\n",
        "    print(data[col].apply(type).unique())\n",
        "for col in categorical_columns:\n",
        "    data[col] = data[col].astype(str)\n",
        "from sklearn.preprocessing import LabelEncoder\n",
        "\n",
        "encoder = LabelEncoder()\n",
        "for col in categorical_columns:\n",
        "    data[col] = encoder.fit_transform(data[col])\n",
        "for col in categorical_columns:\n",
        "    print(f\"Encoded values for {col}:\")\n",
        "    print(data[col].unique())"
      ],
      "metadata": {
        "colab": {
          "base_uri": "https://localhost:8080/"
        },
        "id": "vdDZUShu-OWl",
        "outputId": "c73c8247-09d1-457c-aaf0-60cf08669251"
      },
      "execution_count": 5,
      "outputs": [
        {
          "output_type": "stream",
          "name": "stdout",
          "text": [
            "DayOfWeek unique values and types:\n",
            "[<class 'float'>]\n",
            "Open unique values and types:\n",
            "[<class 'float'>]\n",
            "Promo unique values and types:\n",
            "[<class 'float'>]\n",
            "StateHoliday unique values and types:\n",
            "[<class 'str'> <class 'int'> <class 'float'>]\n",
            "SchoolHoliday unique values and types:\n",
            "[<class 'float'>]\n",
            "StoreType unique values and types:\n",
            "[<class 'str'>]\n",
            "Assortment unique values and types:\n",
            "[<class 'str'>]\n",
            "CompetitionOpenSinceMonth unique values and types:\n",
            "[<class 'float'>]\n",
            "CompetitionOpenSinceYear unique values and types:\n",
            "[<class 'float'>]\n",
            "Promo2 unique values and types:\n",
            "[<class 'int'>]\n",
            "Promo2SinceWeek unique values and types:\n",
            "[<class 'float'>]\n",
            "Promo2SinceYear unique values and types:\n",
            "[<class 'float'>]\n",
            "PromoInterval unique values and types:\n",
            "[<class 'str'>]\n",
            "Encoded values for DayOfWeek:\n",
            "[4 3 2 1 0 6 5 7]\n",
            "Encoded values for Open:\n",
            "[1 0 2]\n",
            "Encoded values for Promo:\n",
            "[1 0 2]\n",
            "Encoded values for StateHoliday:\n",
            "[0 2 3 4 1 5]\n",
            "Encoded values for SchoolHoliday:\n",
            "[1 0 2]\n",
            "Encoded values for StoreType:\n",
            "[2 0 3 1]\n",
            "Encoded values for Assortment:\n",
            "[0 2 1]\n",
            "Encoded values for CompetitionOpenSinceMonth:\n",
            "[12  3  4  7  2 11  0  6  9  8  1  5 10]\n",
            "Encoded values for CompetitionOpenSinceYear:\n",
            "[16 15 14 17 23 21 22  8 19  0 18 13  7 11 20 12 10  2  5  9  3  4  1  6]\n",
            "Encoded values for Promo2:\n",
            "[0 1]\n",
            "Encoded values for Promo2SinceWeek:\n",
            "[ 0  3  4  1 18 16  8  6 21 23  2 11 14 24 15  9  5 12  7 19 13 22 17 20\n",
            " 10]\n",
            "Encoded values for Promo2SinceYear:\n",
            "[0 2 3 4 1 6 7 5]\n",
            "Encoded values for PromoInterval:\n",
            "[3 1 0 2]\n"
          ]
        }
      ]
    },
    {
      "cell_type": "code",
      "source": [
        "print(data.columns)\n"
      ],
      "metadata": {
        "colab": {
          "base_uri": "https://localhost:8080/"
        },
        "id": "kJX9Ktf8VP8-",
        "outputId": "2fd5078a-0f8c-468e-bbe9-3c99ffec1c40"
      },
      "execution_count": 11,
      "outputs": [
        {
          "output_type": "stream",
          "name": "stdout",
          "text": [
            "Index(['Store', 'DayOfWeek', 'Date', 'Sales', 'Customers', 'Open', 'Promo',\n",
            "       'StateHoliday', 'SchoolHoliday', 'StoreType', 'Assortment',\n",
            "       'CompetitionDistance', 'CompetitionOpenSinceMonth',\n",
            "       'CompetitionOpenSinceYear', 'Promo2', 'Promo2SinceWeek',\n",
            "       'Promo2SinceYear', 'PromoInterval', 'Year', 'Month', 'Day', 'Weekday',\n",
            "       'IsWeekend', 'MonthSegment', 'IsPromoMonth'],\n",
            "      dtype='object')\n"
          ]
        }
      ]
    },
    {
      "cell_type": "code",
      "source": [
        "# Check for the existence of 'Sales' column\n",
        "if 'Sales' in data.columns:\n",
        "    # Calculate min and max\n",
        "    min_value = data['Sales'].min()\n",
        "    max_value = data['Sales'].max()\n",
        "\n",
        "    print(f\"Min: {min_value}, Max: {max_value}\")\n",
        "else:\n",
        "    print(\"The 'Sales' column is not in the merged dataset.\")\n"
      ],
      "metadata": {
        "colab": {
          "base_uri": "https://localhost:8080/"
        },
        "id": "u5GQo0LlS4XP",
        "outputId": "12405433-68e5-4472-c427-880d005c534e"
      },
      "execution_count": 10,
      "outputs": [
        {
          "output_type": "stream",
          "name": "stdout",
          "text": [
            "Min: 0.0, Max: 41551.0\n"
          ]
        }
      ]
    },
    {
      "cell_type": "code",
      "source": [
        "from sklearn.preprocessing import StandardScaler\n",
        "\n",
        "scaler = StandardScaler()\n",
        "numeric_features = ['CompetitionDistance', 'CompetitionOpenSinceMonth', 'CompetitionOpenSinceYear', 'Promo2SinceWeek', 'Promo2SinceYear', 'Year', 'Month', 'Day', 'Weekday']\n",
        "data[numeric_features] = scaler.fit_transform(data[numeric_features])\n"
      ],
      "metadata": {
        "id": "9iVHvb7n-usu"
      },
      "execution_count": null,
      "outputs": []
    },
    {
      "cell_type": "code",
      "source": [
        "from sklearn.model_selection import train_test_split\n",
        "\n",
        "X = data.drop(['Sales', 'Customers', 'Date', 'Store'], axis=1)\n",
        "y = data['Sales']\n",
        "\n",
        "X_train, X_test, y_train, y_test = train_test_split(X, y, test_size=0.2, random_state=42)\n"
      ],
      "metadata": {
        "id": "VLlhcvxj-ymA"
      },
      "execution_count": null,
      "outputs": []
    },
    {
      "cell_type": "code",
      "source": [
        "print(X_train.dtypes)\n",
        "\n"
      ],
      "metadata": {
        "colab": {
          "base_uri": "https://localhost:8080/"
        },
        "id": "ahMc7Wac---J",
        "outputId": "1c55e498-536d-4b09-8512-1f93a9b1fe10"
      },
      "execution_count": null,
      "outputs": [
        {
          "output_type": "stream",
          "name": "stdout",
          "text": [
            "DayOfWeek                      int64\n",
            "Open                           int64\n",
            "Promo                          int64\n",
            "StateHoliday                   int64\n",
            "SchoolHoliday                  int64\n",
            "StoreType                      int64\n",
            "Assortment                     int64\n",
            "CompetitionDistance          float64\n",
            "CompetitionOpenSinceMonth    float64\n",
            "CompetitionOpenSinceYear     float64\n",
            "Promo2                         int64\n",
            "Promo2SinceWeek              float64\n",
            "Promo2SinceYear              float64\n",
            "PromoInterval                  int64\n",
            "Year                         float64\n",
            "Month                        float64\n",
            "Day                          float64\n",
            "Weekday                      float64\n",
            "IsWeekend                      int64\n",
            "MonthSegment                   int64\n",
            "IsPromoMonth                   int64\n",
            "dtype: object\n"
          ]
        }
      ]
    },
    {
      "cell_type": "code",
      "source": [
        "months = ['Jan', 'Feb', 'Mar', 'Apr', 'May', 'Jun', 'Jul', 'Aug', 'Sep', 'Oct', 'Nov', 'Dec']\n",
        "for month in months:\n",
        "    X_train[f'Promo_{month}'] = X_train['PromoInterval'].apply(lambda x: 1 if month in str(x) else 0)\n",
        "    X_test[f'Promo_{month}'] = X_test['PromoInterval'].apply(lambda x: 1 if month in str(x) else 0)\n",
        "\n",
        "# Drop the original PromoInterval column\n",
        "X_train = X_train.drop('PromoInterval', axis=1)\n",
        "X_test = X_test.drop('PromoInterval', axis=1)\n"
      ],
      "metadata": {
        "id": "LaRishxz_do8"
      },
      "execution_count": null,
      "outputs": []
    },
    {
      "cell_type": "code",
      "source": [
        "print(X_train.dtypes)\n"
      ],
      "metadata": {
        "colab": {
          "base_uri": "https://localhost:8080/"
        },
        "id": "PnB8LKWv_kpI",
        "outputId": "3740d235-7f14-4cf5-e038-7003d6f5276b"
      },
      "execution_count": null,
      "outputs": [
        {
          "output_type": "stream",
          "name": "stdout",
          "text": [
            "DayOfWeek                      int64\n",
            "Open                           int64\n",
            "Promo                          int64\n",
            "StateHoliday                   int64\n",
            "SchoolHoliday                  int64\n",
            "StoreType                      int64\n",
            "Assortment                     int64\n",
            "CompetitionDistance          float64\n",
            "CompetitionOpenSinceMonth    float64\n",
            "CompetitionOpenSinceYear     float64\n",
            "Promo2                         int64\n",
            "Promo2SinceWeek              float64\n",
            "Promo2SinceYear              float64\n",
            "Year                         float64\n",
            "Month                        float64\n",
            "Day                          float64\n",
            "Weekday                      float64\n",
            "IsWeekend                      int64\n",
            "MonthSegment                   int64\n",
            "IsPromoMonth                   int64\n",
            "Promo_Jan                      int64\n",
            "Promo_Feb                      int64\n",
            "Promo_Mar                      int64\n",
            "Promo_Apr                      int64\n",
            "Promo_May                      int64\n",
            "Promo_Jun                      int64\n",
            "Promo_Jul                      int64\n",
            "Promo_Aug                      int64\n",
            "Promo_Sep                      int64\n",
            "Promo_Oct                      int64\n",
            "Promo_Nov                      int64\n",
            "Promo_Dec                      int64\n",
            "dtype: object\n"
          ]
        }
      ]
    },
    {
      "cell_type": "code",
      "source": [
        "from sklearn.pipeline import Pipeline\n",
        "from sklearn.ensemble import RandomForestRegressor\n",
        "\n",
        "pipeline = Pipeline([\n",
        "    ('model', RandomForestRegressor(n_estimators=100, random_state=42))\n",
        "])\n",
        "\n",
        "pipeline.fit(X_train, y_train)\n",
        "y_pred = pipeline.predict(X_test)\n"
      ],
      "metadata": {
        "id": "G6dx10igALZu"
      },
      "execution_count": null,
      "outputs": []
    },
    {
      "cell_type": "code",
      "source": [
        "from sklearn.metrics import mean_squared_error\n",
        "import numpy as np\n",
        "\n",
        "rmse = np.sqrt(mean_squared_error(y_test, y_pred))\n",
        "print(f\"RMSE: {rmse}\")\n"
      ],
      "metadata": {
        "colab": {
          "base_uri": "https://localhost:8080/"
        },
        "id": "qrz3n9_gDoZZ",
        "outputId": "00399154-98b9-44bb-a242-89a8ac78d6d2"
      },
      "execution_count": null,
      "outputs": [
        {
          "output_type": "stream",
          "name": "stdout",
          "text": [
            "RMSE: 1044.689181657305\n"
          ]
        }
      ]
    },
    {
      "cell_type": "code",
      "source": [
        "import joblib\n",
        "import datetime\n",
        "\n",
        "timestamp = datetime.datetime.now().strftime(\"%Y-%m-%d-%H-%M-%S\")\n",
        "joblib.dump(pipeline, f\"sales_model_{timestamp}.pkl\")\n"
      ],
      "metadata": {
        "colab": {
          "base_uri": "https://localhost:8080/"
        },
        "id": "-VExB_y2NkpS",
        "outputId": "f539c4dd-f2d1-490f-db63-a4d25da6a16f"
      },
      "execution_count": null,
      "outputs": [
        {
          "output_type": "execute_result",
          "data": {
            "text/plain": [
              "['sales_model_2025-01-10-17-15-02.pkl']"
            ]
          },
          "metadata": {},
          "execution_count": 33
        }
      ]
    },
    {
      "cell_type": "markdown",
      "source": [
        "Create Supervised Data for LSTM"
      ],
      "metadata": {
        "id": "XC4dGt3RWs2v"
      }
    },
    {
      "cell_type": "code",
      "source": [
        "# Function to transform the data into supervised learning format\n",
        "def create_supervised_data(df, lag=1):\n",
        "    cols = ['Sales', 'Customers', 'Promo']  # Example columns\n",
        "    df_supervised = df[cols].shift(lag)  # Shift data by 'lag' days\n",
        "    df_supervised['Sales'] = df['Sales']  # Target column\n",
        "    df_supervised.dropna(inplace=True)  # Remove any rows with NaN after shifting\n",
        "    return df_supervised\n",
        "\n",
        "# Prepare the data with a lag of 7 days\n",
        "lag = 7  # We will use the last 7 days to predict the next day's sales\n",
        "supervised_data = create_supervised_data(data, lag=lag)\n",
        "\n",
        "# Scale the data between -1 and 1 using MinMaxScaler\n",
        "scaler = MinMaxScaler(feature_range=(-1, 1))\n",
        "scaled_data = scaler.fit_transform(supervised_data)\n",
        "\n",
        "# Convert back to DataFrame after scaling\n",
        "scaled_data = pd.DataFrame(scaled_data, columns=supervised_data.columns)\n",
        "\n",
        "# Check the first few rows of the scaled data\n",
        "print(scaled_data.head())\n"
      ],
      "metadata": {
        "colab": {
          "base_uri": "https://localhost:8080/"
        },
        "id": "TESGIl-kWwUy",
        "outputId": "a65314bf-27a5-4f26-b700-ece0bf6770cf"
      },
      "execution_count": null,
      "outputs": [
        {
          "output_type": "stream",
          "name": "stdout",
          "text": [
            "      Sales  Customers  Promo\n",
            "0 -0.591249  -0.796629    1.0\n",
            "1 -0.587736  -0.770978    1.0\n",
            "2 -0.654160  -0.699157    1.0\n",
            "3 -0.496667  -0.451081    1.0\n",
            "4 -0.568771  -0.795163    1.0\n"
          ]
        }
      ]
    },
    {
      "cell_type": "markdown",
      "source": [
        " Prepare the LSTM Input Format"
      ],
      "metadata": {
        "id": "Unogaa8RXDV6"
      }
    },
    {
      "cell_type": "markdown",
      "source": [],
      "metadata": {
        "id": "y_vSWykoXEYL"
      }
    },
    {
      "cell_type": "code",
      "source": [
        "# Function to create the data in the 3D format (samples, time_steps, features)\n",
        "def create_lstm_data(data, time_steps=7):\n",
        "    X, y = [], []\n",
        "    for i in range(len(data) - time_steps):\n",
        "        X.append(data.iloc[i:i+time_steps, :-1].values)  # All columns except target\n",
        "        y.append(data.iloc[i+time_steps, -1])  # Target column (Sales)\n",
        "    return np.array(X), np.array(y)\n",
        "\n",
        "# Prepare the dataset\n",
        "X, y = create_lstm_data(scaled_data, time_steps=lag)\n",
        "\n",
        "# Reshape X to be 3D [samples, time_steps, features]\n",
        "X = X.reshape(X.shape[0], X.shape[1], X.shape[2])\n",
        "\n",
        "# Split the data into training and testing sets\n",
        "train_size = int(len(X) * 0.8)\n",
        "X_train, X_test = X[:train_size], X[train_size:]\n",
        "y_train, y_test = y[:train_size], y[train_size:]\n",
        "\n",
        "# Check the shapes of the training and testing data\n",
        "print(f\"Training data shape: X_train={X_train.shape}, y_train={y_train.shape}\")\n",
        "print(f\"Testing data shape: X_test={X_test.shape}, y_test={y_test.shape}\")\n"
      ],
      "metadata": {
        "colab": {
          "base_uri": "https://localhost:8080/"
        },
        "id": "xN_aBOVKXIZQ",
        "outputId": "b453c536-fdce-470c-9f0a-c0e04b08ba9c"
      },
      "execution_count": null,
      "outputs": [
        {
          "output_type": "stream",
          "name": "stdout",
          "text": [
            "Training data shape: X_train=(201846, 7, 2), y_train=(201846,)\n",
            "Testing data shape: X_test=(50462, 7, 2), y_test=(50462,)\n"
          ]
        }
      ]
    },
    {
      "cell_type": "markdown",
      "source": [
        "Build the LSTM Model"
      ],
      "metadata": {
        "id": "vAIsybl_Yndk"
      }
    },
    {
      "cell_type": "code",
      "source": [
        "import tensorflow as tf\n",
        "from tensorflow.keras.models import Sequential\n",
        "from tensorflow.keras.layers import LSTM, Dense, Dropout\n",
        "\n",
        "# Build the LSTM model\n",
        "model = Sequential()\n",
        "\n",
        "# Add LSTM layers\n",
        "model.add(LSTM(64, return_sequences=True, input_shape=(X_train.shape[1], X_train.shape[2])))\n",
        "model.add(Dropout(0.2))\n",
        "\n",
        "model.add(LSTM(32, return_sequences=False))\n",
        "model.add(Dropout(0.2))\n",
        "\n",
        "# Output layer with one value (Sales)\n",
        "model.add(Dense(1))\n",
        "\n",
        "# Compile the model\n",
        "model.compile(optimizer='adam', loss='mean_squared_error')\n",
        "\n",
        "# Train the model\n",
        "history = model.fit(X_train, y_train, epochs=10, batch_size=64, validation_data=(X_test, y_test), verbose=1)\n"
      ],
      "metadata": {
        "colab": {
          "base_uri": "https://localhost:8080/"
        },
        "id": "gM10pSBoYoHK",
        "outputId": "14598ae1-9944-4c50-a86a-45ff36343fe8"
      },
      "execution_count": null,
      "outputs": [
        {
          "output_type": "stream",
          "name": "stderr",
          "text": [
            "/usr/local/lib/python3.10/dist-packages/keras/src/layers/rnn/rnn.py:204: UserWarning: Do not pass an `input_shape`/`input_dim` argument to a layer. When using Sequential models, prefer using an `Input(shape)` object as the first layer in the model instead.\n",
            "  super().__init__(**kwargs)\n"
          ]
        },
        {
          "output_type": "stream",
          "name": "stdout",
          "text": [
            "Epoch 1/10\n",
            "\u001b[1m3154/3154\u001b[0m \u001b[32m━━━━━━━━━━━━━━━━━━━━\u001b[0m\u001b[37m\u001b[0m \u001b[1m44s\u001b[0m 13ms/step - loss: 0.5477 - val_loss: 0.6140\n",
            "Epoch 2/10\n",
            "\u001b[1m3154/3154\u001b[0m \u001b[32m━━━━━━━━━━━━━━━━━━━━\u001b[0m\u001b[37m\u001b[0m \u001b[1m81s\u001b[0m 13ms/step - loss: 0.4012 - val_loss: 0.6323\n",
            "Epoch 3/10\n",
            "\u001b[1m3154/3154\u001b[0m \u001b[32m━━━━━━━━━━━━━━━━━━━━\u001b[0m\u001b[37m\u001b[0m \u001b[1m42s\u001b[0m 13ms/step - loss: 0.3773 - val_loss: 0.6511\n",
            "Epoch 4/10\n",
            "\u001b[1m3154/3154\u001b[0m \u001b[32m━━━━━━━━━━━━━━━━━━━━\u001b[0m\u001b[37m\u001b[0m \u001b[1m82s\u001b[0m 13ms/step - loss: 0.3656 - val_loss: 0.6262\n",
            "Epoch 5/10\n",
            "\u001b[1m3154/3154\u001b[0m \u001b[32m━━━━━━━━━━━━━━━━━━━━\u001b[0m\u001b[37m\u001b[0m \u001b[1m80s\u001b[0m 13ms/step - loss: 0.3562 - val_loss: 0.5598\n",
            "Epoch 6/10\n",
            "\u001b[1m3154/3154\u001b[0m \u001b[32m━━━━━━━━━━━━━━━━━━━━\u001b[0m\u001b[37m\u001b[0m \u001b[1m41s\u001b[0m 13ms/step - loss: 0.3494 - val_loss: 0.5942\n",
            "Epoch 7/10\n",
            "\u001b[1m3154/3154\u001b[0m \u001b[32m━━━━━━━━━━━━━━━━━━━━\u001b[0m\u001b[37m\u001b[0m \u001b[1m41s\u001b[0m 13ms/step - loss: 0.3374 - val_loss: 0.5924\n",
            "Epoch 8/10\n",
            "\u001b[1m3154/3154\u001b[0m \u001b[32m━━━━━━━━━━━━━━━━━━━━\u001b[0m\u001b[37m\u001b[0m \u001b[1m41s\u001b[0m 13ms/step - loss: 0.3300 - val_loss: 0.5526\n",
            "Epoch 9/10\n",
            "\u001b[1m3154/3154\u001b[0m \u001b[32m━━━━━━━━━━━━━━━━━━━━\u001b[0m\u001b[37m\u001b[0m \u001b[1m40s\u001b[0m 13ms/step - loss: 0.3226 - val_loss: 0.5450\n",
            "Epoch 10/10\n",
            "\u001b[1m3154/3154\u001b[0m \u001b[32m━━━━━━━━━━━━━━━━━━━━\u001b[0m\u001b[37m\u001b[0m \u001b[1m41s\u001b[0m 13ms/step - loss: 0.3140 - val_loss: 0.5709\n"
          ]
        }
      ]
    },
    {
      "cell_type": "code",
      "source": [
        "# Save the trained LSTM model in the new Keras format\n",
        "model.save('sales_model.keras')\n",
        "# Load the model from the new Keras format\n",
        "model = tf.keras.models.load_model('sales_model.keras')\n"
      ],
      "metadata": {
        "id": "XIDP57vM0Gvx"
      },
      "execution_count": null,
      "outputs": []
    },
    {
      "cell_type": "code",
      "source": [
        "print(model.input_shape)"
      ],
      "metadata": {
        "colab": {
          "base_uri": "https://localhost:8080/"
        },
        "id": "FU6VYe4qN7J8",
        "outputId": "bbdd505d-3756-4db0-e5ae-0d58ce49a892"
      },
      "execution_count": null,
      "outputs": [
        {
          "output_type": "stream",
          "name": "stdout",
          "text": [
            "(None, 7, 2)\n"
          ]
        }
      ]
    },
    {
      "cell_type": "markdown",
      "source": [
        "Evaluate the Model and Make Predictions"
      ],
      "metadata": {
        "id": "HtOpx0wXgHzC"
      }
    },
    {
      "cell_type": "code",
      "source": [
        "# Evaluate the model on the test data\n",
        "mse = model.evaluate(X_test, y_test)\n",
        "print(\"Mean Squared Error on Test Set:\", mse)\n",
        "\n",
        "# Predict on the test set\n",
        "y_pred = model.predict(X_test)\n",
        "\n",
        "# Reshape the predictions to match the shape of the original scaled 'Sales' column\n",
        "y_pred_reshaped = y_pred.reshape(-1, 1)  # Reshape to (n_samples, 1) for inverse transformation\n",
        "\n",
        "# Inverse scaling to get the original scale of sales (only for predictions)\n",
        "y_pred_original = scaler.inverse_transform(np.concatenate([np.zeros((y_pred_reshaped.shape[0], scaled_data.shape[1]-1)), y_pred_reshaped], axis=1))[:, -1]\n",
        "\n",
        "# Plot the predicted vs actual sales\n",
        "plt.figure(figsize=(12, 6))\n",
        "plt.plot(y_test, label='True Sales')\n",
        "plt.plot(y_pred_original, label='Predicted Sales')\n",
        "plt.legend()\n",
        "plt.title(\"True vs Predicted Sales\")\n",
        "plt.xlabel(\"Time\")\n",
        "plt.ylabel(\"Sales\")\n",
        "plt.show()\n"
      ],
      "metadata": {
        "colab": {
          "base_uri": "https://localhost:8080/",
          "height": 552
        },
        "id": "_vO_ZEAWgK7a",
        "outputId": "33a67c3a-0e58-417d-dae4-a81bf20ec874"
      },
      "execution_count": null,
      "outputs": [
        {
          "output_type": "stream",
          "name": "stdout",
          "text": [
            "\u001b[1m1577/1577\u001b[0m \u001b[32m━━━━━━━━━━━━━━━━━━━━\u001b[0m\u001b[37m\u001b[0m \u001b[1m7s\u001b[0m 4ms/step - loss: 0.4602\n",
            "Mean Squared Error on Test Set: 0.5708889961242676\n",
            "\u001b[1m1577/1577\u001b[0m \u001b[32m━━━━━━━━━━━━━━━━━━━━\u001b[0m\u001b[37m\u001b[0m \u001b[1m6s\u001b[0m 4ms/step\n"
          ]
        },
        {
          "output_type": "display_data",
          "data": {
            "text/plain": [
              "<Figure size 1200x600 with 1 Axes>"
            ],
            "image/png": "[encoded data removed]"
          },
          "metadata": {}
        }
      ]
    },
    {
      "cell_type": "markdown",
      "source": [
        " Monitor Model Training"
      ],
      "metadata": {
        "id": "3SbRNnPkhYUw"
      }
    },
    {
      "cell_type": "code",
      "source": [
        "# Plot the training and validation loss\n",
        "plt.plot(history.history['loss'], label='Train Loss')\n",
        "plt.plot(history.history['val_loss'], label='Validation Loss')\n",
        "plt.legend()\n",
        "plt.show()\n"
      ],
      "metadata": {
        "colab": {
          "base_uri": "https://localhost:8080/",
          "height": 430
        },
        "id": "XikGwvdnhZFy",
        "outputId": "a5031b35-c7e1-4a23-f7bd-de4b9f83348c"
      },
      "execution_count": null,
      "outputs": [
        {
          "output_type": "display_data",
          "data": {
            "text/plain": [
              "<Figure size 640x480 with 1 Axes>"
            ],
            "image/png": "[encoded data removed]"
          },
          "metadata": {}
        }
      ]
    },
    {
      "cell_type": "code",
      "source": [
        "print(model.input_shape)"
      ],
      "metadata": {
        "colab": {
          "base_uri": "https://localhost:8080/"
        },
        "id": "GJTQjmc5ZGKt",
        "outputId": "3d34dea1-64c6-4b4a-dbfb-5605a1a6cd08"
      },
      "execution_count": null,
      "outputs": [
        {
          "output_type": "stream",
          "name": "stdout",
          "text": [
            "(None, 7, 2)\n"
          ]
        }
      ]
    }
  ]
}